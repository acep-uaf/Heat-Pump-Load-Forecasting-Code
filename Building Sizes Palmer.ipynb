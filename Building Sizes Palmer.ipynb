{
 "cells": [
  {
   "cell_type": "code",
   "execution_count": 1,
   "id": "d39cbfd3",
   "metadata": {},
   "outputs": [
    {
     "name": "stdout",
     "output_type": "stream",
     "text": [
      "25th Percentile: 1200.0\n",
      "50th Percentile (Median): 1926.0\n",
      "70th Percentile: 2520.0\n",
      "100th Percentile (Max): 17898.0\n"
     ]
    }
   ],
   "source": [
    "import pandas as pd\n",
    "\n",
    "# Load the dataset\n",
    "df = pd.read_csv('aggregated_building_areas_palmer.csv')\n",
    "\n",
    "\n",
    "percentiles = df['LVNG_GRG_SUM'].quantile([0.25, 0.5, 0.7, 1.0])\n",
    "\n",
    "# Output the percentile values\n",
    "print(\"25th Percentile:\", percentiles[0.25])\n",
    "print(\"50th Percentile (Median):\", percentiles[0.5])\n",
    "print(\"70th Percentile:\", percentiles[0.7])\n",
    "print(\"100th Percentile (Max):\", percentiles[1.0])"
   ]
  },
  {
   "cell_type": "code",
   "execution_count": null,
   "id": "7a8b0168",
   "metadata": {},
   "outputs": [],
   "source": []
  }
 ],
 "metadata": {
  "kernelspec": {
   "display_name": "Python 3 (ipykernel)",
   "language": "python",
   "name": "python3"
  },
  "language_info": {
   "codemirror_mode": {
    "name": "ipython",
    "version": 3
   },
   "file_extension": ".py",
   "mimetype": "text/x-python",
   "name": "python",
   "nbconvert_exporter": "python",
   "pygments_lexer": "ipython3",
   "version": "3.11.5"
  }
 },
 "nbformat": 4,
 "nbformat_minor": 5
}
