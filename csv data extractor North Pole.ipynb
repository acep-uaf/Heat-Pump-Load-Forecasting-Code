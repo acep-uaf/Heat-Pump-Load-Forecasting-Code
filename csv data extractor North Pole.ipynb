{
 "cells": [
  {
   "cell_type": "code",
   "execution_count": 5,
   "id": "58802470",
   "metadata": {},
   "outputs": [],
   "source": [
    "import pandas as pd\n",
    "\n",
    "# Step 2: Read the CSV file\n",
    "df = pd.read_csv('fnsb_buildings_nbrhds.csv')\n",
    "\n",
    "# Step 3: Filter the DataFrame\n",
    "fairbanks_df = df[df['Nbrhd_Comm'].str.upper() == 'NORTH POLE']\n",
    "\n",
    "filtered_df = fairbanks_df[fairbanks_df['category'] == 'Residential']\n",
    "\n",
    "# Step 4: Select 'ID' and 'footprint' columns\n",
    "selected_data = filtered_df[['fid', 'footprint']]\n",
    "\n",
    "# Step 5: Export to a new CSV file\n",
    "selected_data.to_csv('building_sizes_northpole.csv', index=False)"
   ]
  },
  {
   "cell_type": "code",
   "execution_count": null,
   "id": "50c8215e",
   "metadata": {},
   "outputs": [],
   "source": []
  }
 ],
 "metadata": {
  "kernelspec": {
   "display_name": "Python 3 (ipykernel)",
   "language": "python",
   "name": "python3"
  },
  "language_info": {
   "codemirror_mode": {
    "name": "ipython",
    "version": 3
   },
   "file_extension": ".py",
   "mimetype": "text/x-python",
   "name": "python",
   "nbconvert_exporter": "python",
   "pygments_lexer": "ipython3",
   "version": "3.11.5"
  }
 },
 "nbformat": 4,
 "nbformat_minor": 5
}
