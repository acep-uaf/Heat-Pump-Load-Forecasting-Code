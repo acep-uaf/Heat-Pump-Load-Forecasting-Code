{
 "cells": [
  {
   "cell_type": "code",
   "execution_count": null,
   "id": "85ca4753",
   "metadata": {},
   "outputs": [],
   "source": [
    "import pandas as pd\n",
    "import matplotlib.pyplot as plt\n",
    "import glob\n",
    "\n",
    "# Get all CSV files matching the pattern\n",
    "files = glob.glob('Kenai_hourly_kwh_data_*.csv')  \n",
    "\n",
    "# Prepare DataFrame to hold all the data\n",
    "all_data = pd.DataFrame()\n",
    "\n",
    "# Load and concatenate data from all files\n",
    "for file in files:\n",
    "    df = pd.read_csv(file)\n",
    "    df['timestamp'] = pd.to_datetime(df['timestamp'], format='%Y-%m-%d %H:%M:%S') \n",
    "    all_data = pd.concat([all_data, df])\n",
    "\n",
    "# Filter data for January and June\n",
    "data_january = all_data[all_data['timestamp'].dt.month == 1]\n",
    "data_june = all_data[all_data['timestamp'].dt.month == 6]\n",
    "\n",
    "# Plotting\n",
    "plt.figure(figsize=(10, 6))\n",
    "plt.plot(data_january['timestamp'], data_january['HP_kWh'], label='January', color='blue')\n",
    "plt.plot(data_june['timestamp'], data_june['HP_kWh'], label='June', color='green')\n",
    "\n",
    "plt.title('Hourly kWh Usage for January and June')\n",
    "plt.xlabel('Timestamp')\n",
    "plt.ylabel('kWh')\n",
    "plt.legend()\n",
    "plt.grid(True)\n",
    "plt.xticks(rotation=45)  # Rotate dates for better readability\n",
    "plt.tight_layout()\n",
    "plt.show()\n"
   ]
  }
 ],
 "metadata": {
  "kernelspec": {
   "display_name": "Python 3 (ipykernel)",
   "language": "python",
   "name": "python3"
  },
  "language_info": {
   "codemirror_mode": {
    "name": "ipython",
    "version": 3
   },
   "file_extension": ".py",
   "mimetype": "text/x-python",
   "name": "python",
   "nbconvert_exporter": "python",
   "pygments_lexer": "ipython3",
   "version": "3.11.5"
  }
 },
 "nbformat": 4,
 "nbformat_minor": 5
}
