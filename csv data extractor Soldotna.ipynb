{
 "cells": [
  {
   "cell_type": "code",
   "execution_count": 1,
   "id": "492b3336",
   "metadata": {},
   "outputs": [],
   "source": [
    "import pandas as pd\n",
    "\n",
    "\n",
    "df = pd.read_csv('parcel_id_finished_area_kenai.csv')\n",
    "\n",
    "df['City'] = df['City'].str.strip()\n",
    "\n",
    "# Filter the DataFrame for rows where the 'City' column is 'Kenai', considering potential case differences\n",
    "filtered_df = df[df['City'].str.casefold() == 'Soldotna'.casefold()]\n",
    "\n",
    "# Select only the 'Parcel ID' and 'Finished Area' columns from the filtered DataFrame\n",
    "selected_columns_df = filtered_df[['Parcel ID', 'Finished Area']]\n",
    "\n",
    "# Export the selected columns to a new CSV file\n",
    "selected_columns_df.to_csv('Soldotna_buildingoutput.csv', index=False)"
   ]
  },
  {
   "cell_type": "code",
   "execution_count": null,
   "id": "36e4a3ff",
   "metadata": {},
   "outputs": [],
   "source": []
  }
 ],
 "metadata": {
  "kernelspec": {
   "display_name": "Python 3 (ipykernel)",
   "language": "python",
   "name": "python3"
  },
  "language_info": {
   "codemirror_mode": {
    "name": "ipython",
    "version": 3
   },
   "file_extension": ".py",
   "mimetype": "text/x-python",
   "name": "python",
   "nbconvert_exporter": "python",
   "pygments_lexer": "ipython3",
   "version": "3.11.5"
  }
 },
 "nbformat": 4,
 "nbformat_minor": 5
}
