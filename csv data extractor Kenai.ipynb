{
 "cells": [
  {
   "cell_type": "code",
   "execution_count": 17,
   "id": "91cd8d20",
   "metadata": {},
   "outputs": [
    {
     "name": "stderr",
     "output_type": "stream",
     "text": [
      "C:\\Users\\wfcaldwell\\AppData\\Local\\Temp\\ipykernel_39412\\2090172013.py:12: DtypeWarning: Columns (0,1,5,6,7,8,13,14,15,16,17,18,19,20,21) have mixed types. Specify dtype option on import or set low_memory=False.\n",
      "  df = pd.read_csv('updated_kenai_buildings.csv')\n"
     ]
    },
    {
     "name": "stdout",
     "output_type": "stream",
     "text": [
      "<class 'pandas.core.frame.DataFrame'>\n",
      "RangeIndex: 1048575 entries, 0 to 1048574\n",
      "Data columns (total 23 columns):\n",
      " #   Column                             Non-Null Count  Dtype  \n",
      "---  ------                             --------------  -----  \n",
      " 0   Parcel #                           66423 non-null  object \n",
      " 1   Location (from TAG)                66423 non-null  object \n",
      " 2   Tax Assessment Group (TAG)         66423 non-null  float64\n",
      " 3   Property class                     66423 non-null  float64\n",
      " 4   Acres                              66423 non-null  float64\n",
      " 5   Type of Deed                       66373 non-null  object \n",
      " 6   Book                               66423 non-null  object \n",
      " 7   Page                               66423 non-null  object \n",
      " 8   Document Number                    66423 non-null  object \n",
      " 9   Land A/V                           66423 non-null  float64\n",
      " 10  Improvements A/V                   66423 non-null  float64\n",
      " 11  Total Assessed Value               66423 non-null  float64\n",
      " 12  Exempt Amount                      66423 non-null  float64\n",
      " 13  Physical Address                   66423 non-null  object \n",
      " 14  Owner Name - (Primary Owner only)  66423 non-null  object \n",
      " 15  Attn: line                         66423 non-null  object \n",
      " 16  Addr line 1 (Mailing)              66423 non-null  object \n",
      " 17  Unnamed: 17                        66423 non-null  object \n",
      " 18  City                               66423 non-null  object \n",
      " 19  State                              66423 non-null  object \n",
      " 20  Zip+4                              66423 non-null  object \n",
      " 21  Legal Description                  66423 non-null  object \n",
      " 22  Finished Area                      29052 non-null  float64\n",
      "dtypes: float64(8), object(15)\n",
      "memory usage: 184.0+ MB\n",
      "None\n",
      "Rows after filtering by City and Property Class: 0\n",
      "Rows after filtering by non-zero Finished area: 0\n",
      "No rows match the criteria. Please check the data and criteria.\n"
     ]
    }
   ],
   "source": [
    "import pandas as pd\n",
    "\n",
    "\n"
   ]
  },
  {
   "cell_type": "code",
   "execution_count": null,
   "id": "1f963238",
   "metadata": {},
   "outputs": [],
   "source": []
  }
 ],
 "metadata": {
  "kernelspec": {
   "display_name": "Python 3 (ipykernel)",
   "language": "python",
   "name": "python3"
  },
  "language_info": {
   "codemirror_mode": {
    "name": "ipython",
    "version": 3
   },
   "file_extension": ".py",
   "mimetype": "text/x-python",
   "name": "python",
   "nbconvert_exporter": "python",
   "pygments_lexer": "ipython3",
   "version": "3.11.5"
  }
 },
 "nbformat": 4,
 "nbformat_minor": 5
}
