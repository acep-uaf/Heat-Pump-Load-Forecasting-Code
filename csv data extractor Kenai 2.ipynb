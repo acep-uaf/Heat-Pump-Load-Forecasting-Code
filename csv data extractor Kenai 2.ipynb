{
 "cells": [
  {
   "cell_type": "code",
   "execution_count": 1,
   "id": "fe949150",
   "metadata": {},
   "outputs": [
    {
     "name": "stderr",
     "output_type": "stream",
     "text": [
      "C:\\Users\\wfcaldwell\\AppData\\Local\\Temp\\ipykernel_42344\\778709240.py:3: DtypeWarning: Columns (0,1,5,6,7,8,13,14,15,16,17,18,19,20,21) have mixed types. Specify dtype option on import or set low_memory=False.\n",
      "  df = pd.read_csv('updated_kenai_buildings.csv')\n"
     ]
    }
   ],
   "source": [
    "import pandas as pd\n",
    "\n",
    "df = pd.read_csv('updated_kenai_buildings.csv')\n",
    "\n",
    "filtered_df = df[df['Property class'] == 110]\n",
    "\n",
    "filtered_df.to_csv('filtered_kenai_buildings.csv', index=False)"
   ]
  },
  {
   "cell_type": "code",
   "execution_count": 6,
   "id": "28b9cbac",
   "metadata": {},
   "outputs": [],
   "source": [
    "import pandas as pd\n",
    "\n",
    "# Replace 'path_to_your_csv' with the actual path to your filtered CSV file\n",
    "df = pd.read_csv('filtered_kenai_buildings.csv')\n",
    "\n",
    "selected_columns = df[['Parcel ID', 'Finished Area', 'City']]\n",
    "\n",
    "selected_columns.to_csv('parcel_id_finished_area_kenai.csv', index=False)"
   ]
  },
  {
   "cell_type": "code",
   "execution_count": 9,
   "id": "73768baf",
   "metadata": {},
   "outputs": [],
   "source": [
    "import pandas as pd\n",
    "\n",
    "\n",
    "df = pd.read_csv('parcel_id_finished_area_kenai.csv')\n",
    "\n",
    "df['City'] = df['City'].str.strip()\n",
    "\n",
    "# Filter the DataFrame for rows where the 'City' column is 'Kenai', considering potential case differences\n",
    "filtered_df = df[df['City'].str.casefold() == 'Kenai'.casefold()]\n",
    "\n",
    "# Select only the 'Parcel ID' and 'Finished Area' columns from the filtered DataFrame\n",
    "selected_columns_df = filtered_df[['Parcel ID', 'Finished Area']]\n",
    "\n",
    "# Export the selected columns to a new CSV file\n",
    "selected_columns_df.to_csv('Kenai_buildingoutput.csv', index=False)"
   ]
  },
  {
   "cell_type": "code",
   "execution_count": null,
   "id": "304ff632",
   "metadata": {},
   "outputs": [],
   "source": []
  }
 ],
 "metadata": {
  "kernelspec": {
   "display_name": "Python 3 (ipykernel)",
   "language": "python",
   "name": "python3"
  },
  "language_info": {
   "codemirror_mode": {
    "name": "ipython",
    "version": 3
   },
   "file_extension": ".py",
   "mimetype": "text/x-python",
   "name": "python",
   "nbconvert_exporter": "python",
   "pygments_lexer": "ipython3",
   "version": "3.11.5"
  }
 },
 "nbformat": 4,
 "nbformat_minor": 5
}
