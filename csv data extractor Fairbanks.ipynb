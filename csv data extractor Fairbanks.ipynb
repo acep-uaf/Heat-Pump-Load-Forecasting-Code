{
 "cells": [
  {
   "cell_type": "code",
   "execution_count": 12,
   "id": "319f916c",
   "metadata": {},
   "outputs": [],
   "source": [
    "import pandas as pd\n",
    "\n",
    "# Step 2: Read the CSV file\n",
    "df = pd.read_csv('fnsb_buildings_nbrhds.csv')\n",
    "\n",
    "# Step 3: Filter the DataFrame\n",
    "fairbanks_df = df[df['Nbrhd_Comm'].str.upper() == 'FAIRBANKS']\n",
    "\n",
    "filtered_df = fairbanks_df[fairbanks_df['category'] == 'Residential']\n",
    "\n",
    "# Step 4: Select 'ID' and 'footprint' columns\n",
    "selected_data = filtered_df[['fid', 'footprint']]\n",
    "\n",
    "# Step 5: Export to a new CSV file\n",
    "selected_data.to_csv('building_sizes_fairbanks.csv', index=False)"
   ]
  },
  {
   "cell_type": "code",
   "execution_count": 9,
   "id": "739f48c9",
   "metadata": {},
   "outputs": [
    {
     "name": "stdout",
     "output_type": "stream",
     "text": [
      "['FAIRBANKS' 'NORTH POLE' 'SALCHA' 'FORT WAINWRIGHT' 'EIELSON AFB'\n",
      " 'NENANA' nan 'Fairbanks' 'North Pole' 'Salcha']\n"
     ]
    }
   ],
   "source": [
    "import pandas as pd\n",
    "\n",
    "# Step 2: Read the CSV file\n",
    "df = pd.read_csv('fnsb_buildings_nbrhds.csv')\n",
    "\n",
    "unique_values = df['Nbrhd_Comm'].unique()\n",
    "\n",
    "# Print the unique values\n",
    "print(unique_values)"
   ]
  },
  {
   "cell_type": "code",
   "execution_count": null,
   "id": "4bd37d86",
   "metadata": {},
   "outputs": [],
   "source": []
  }
 ],
 "metadata": {
  "kernelspec": {
   "display_name": "Python 3 (ipykernel)",
   "language": "python",
   "name": "python3"
  },
  "language_info": {
   "codemirror_mode": {
    "name": "ipython",
    "version": 3
   },
   "file_extension": ".py",
   "mimetype": "text/x-python",
   "name": "python",
   "nbconvert_exporter": "python",
   "pygments_lexer": "ipython3",
   "version": "3.11.5"
  }
 },
 "nbformat": 4,
 "nbformat_minor": 5
}
