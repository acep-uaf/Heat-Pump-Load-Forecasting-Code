{
 "cells": [
  {
   "cell_type": "code",
   "execution_count": 2,
   "id": "e092accf",
   "metadata": {},
   "outputs": [
    {
     "name": "stdout",
     "output_type": "stream",
     "text": [
      "Total number of buildings: 2404\n"
     ]
    }
   ],
   "source": [
    "import pandas as pd\n",
    "\n",
    "# Load the data\n",
    "df = pd.read_csv('building_output_denali.csv')\n",
    "\n",
    "# Filter out rows where 'footprint' is NaN or 0\n",
    "df_filtered = df.dropna(subset=['area'])\n",
    "df_filtered = df_filtered[df_filtered['area'] > 0]\n",
    "\n",
    "# Sort the data by 'footprint' from smallest to largest\n",
    "df_sorted = df_filtered.sort_values(by='area')\n",
    "\n",
    "total_buildings = len(df_sorted)\n",
    "\n",
    "print(f'Total number of buildings: {total_buildings}')"
   ]
  },
  {
   "cell_type": "code",
   "execution_count": 3,
   "id": "2c7ba397",
   "metadata": {},
   "outputs": [
    {
     "data": {
      "image/png": "[encoded data removed]",
      "text/plain": [
       "<Figure size 1000x600 with 1 Axes>"
      ]
     },
     "metadata": {},
     "output_type": "display_data"
    }
   ],
   "source": [
    "import matplotlib.pyplot as plt\n",
    "\n",
    "# Plot histogram\n",
    "plt.figure(figsize=(10, 6))\n",
    "plt.hist(df_sorted['area'], bins=3, edgecolor='black')\n",
    "plt.title('Building Size Distribution')\n",
    "plt.xlabel('Building Size (footprint)')\n",
    "plt.ylabel('Frequency')\n",
    "plt.show()"
   ]
  },
  {
   "cell_type": "code",
   "execution_count": 5,
   "id": "567e4aca",
   "metadata": {},
   "outputs": [
    {
     "name": "stdout",
     "output_type": "stream",
     "text": [
      "Bin 1:\n",
      "  Number of buildings: 2401\n",
      "  Average building size: 139.33349386755827\n",
      "Bin 2:\n",
      "  Number of buildings: 2\n",
      "  Average building size: 1428.03740852338\n",
      "Bin 3:\n",
      "  Number of buildings: 1\n",
      "  No data available for this bin.\n"
     ]
    }
   ],
   "source": [
    "import numpy as np\n",
    "\n",
    "# Calculate histogram and bin edges\n",
    "counts, bin_edges = np.histogram(df_sorted['area'], bins=3)\n",
    "\n",
    "# Initialize list to store averages\n",
    "bin_averages = []\n",
    "\n",
    "# Calculate average for each bin\n",
    "for i in range(len(bin_edges)-1):\n",
    "    # Filter data for this bin\n",
    "    bin_filter = (df_sorted['area'] >= bin_edges[i]) & (df_sorted['area'] < bin_edges[i+1])\n",
    "    bin_data = df_sorted[bin_filter]\n",
    "    \n",
    "    # Check if there's only one building in the bin\n",
    "    if counts[i] == 1 and not bin_data.empty:\n",
    "        # Directly use the building's size if only one is present\n",
    "        size = bin_data['area'].iloc[0]\n",
    "        bin_averages.append(size)\n",
    "        print(f'Bin {i+1}:')\n",
    "        print(f'  Number of buildings: {counts[i]}')\n",
    "        print(f'  Building size: {size}')\n",
    "    elif not bin_data.empty:\n",
    "        # Calculate and store average size if more than one building is present\n",
    "        avg = bin_data['area'].mean()\n",
    "        bin_averages.append(avg)\n",
    "        print(f'Bin {i+1}:')\n",
    "        print(f'  Number of buildings: {counts[i]}')\n",
    "        print(f'  Average building size: {avg}')\n",
    "    else:\n",
    "        # Handle case where bin is empty\n",
    "        print(f'Bin {i+1}:')\n",
    "        print(f'  Number of buildings: {counts[i]}')\n",
    "        print('  No data available for this bin.')\n",
    "\n"
   ]
  },
  {
   "cell_type": "code",
   "execution_count": 6,
   "id": "193cbc29",
   "metadata": {},
   "outputs": [
    {
     "name": "stdout",
     "output_type": "stream",
     "text": [
      "Bin 1:\n",
      "  Number of buildings: 2404\n",
      "  Average building size: 140.40607307243204\n"
     ]
    }
   ],
   "source": [
    "import numpy as np\n",
    "\n",
    "# Calculate histogram and bin edge using only 1 bin\n",
    "counts, bin_edges = np.histogram(df_sorted['area'], bins=1)\n",
    "\n",
    "# Initialize list to store averages\n",
    "bin_averages = []\n",
    "\n",
    "# Since there is only one bin, calculate average for that bin\n",
    "# Filter data for this bin\n",
    "bin_filter = (df_sorted['area'] >= bin_edges[0]) & (df_sorted['area'] < bin_edges[1])\n",
    "bin_data = df_sorted[bin_filter]\n",
    "\n",
    "# Calculate and store average\n",
    "avg = bin_data['area'].mean()\n",
    "bin_averages.append(avg)\n",
    "\n",
    "# Print number of buildings and average size for the single bin\n",
    "print(f'Bin 1:')\n",
    "print(f'  Number of buildings: {counts[0]}')\n",
    "print(f'  Average building size: {avg}')"
   ]
  },
  {
   "cell_type": "code",
   "execution_count": null,
   "id": "6041f147",
   "metadata": {},
   "outputs": [],
   "source": []
  }
 ],
 "metadata": {
  "kernelspec": {
   "display_name": "Python 3 (ipykernel)",
   "language": "python",
   "name": "python3"
  },
  "language_info": {
   "codemirror_mode": {
    "name": "ipython",
    "version": 3
   },
   "file_extension": ".py",
   "mimetype": "text/x-python",
   "name": "python",
   "nbconvert_exporter": "python",
   "pygments_lexer": "ipython3",
   "version": "3.11.5"
  }
 },
 "nbformat": 4,
 "nbformat_minor": 5
}
