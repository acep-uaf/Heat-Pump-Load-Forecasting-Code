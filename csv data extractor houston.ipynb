{
 "cells": [
  {
   "cell_type": "code",
   "execution_count": 1,
   "id": "0edc1780",
   "metadata": {},
   "outputs": [
    {
     "name": "stderr",
     "output_type": "stream",
     "text": [
      "C:\\Users\\wfcaldwell\\AppData\\Local\\Temp\\ipykernel_34240\\2410617675.py:18: SettingWithCopyWarning: \n",
      "A value is trying to be set on a copy of a slice from a DataFrame.\n",
      "Try using .loc[row_indexer,col_indexer] = value instead\n",
      "\n",
      "See the caveats in the documentation: https://pandas.pydata.org/pandas-docs/stable/user_guide/indexing.html#returning-a-view-versus-a-copy\n",
      "  filtered_df['LVNG_GRG_SUM'] = filtered_df['Living_Sqft'] + filtered_df['Gar_Sqft']\n"
     ]
    }
   ],
   "source": [
    "import pandas as pd\n",
    "\n",
    "df = pd.read_csv('mat_su_building_data_locations.csv', low_memory=False)\n",
    "\n",
    "df['BLDG_MODEL_CODE'] = pd.to_numeric(df['BLDG_MODEL_CODE'], errors='coerce')\n",
    "\n",
    "# Drop rows where 'BLDG_ID' conversion to numeric resulted in NaN (non-numeric values)\n",
    "df = df.dropna(subset=['BLDG_MODEL_CODE'])\n",
    "\n",
    "# First, filter the dataframe for rows where the City is 'Palmer'\n",
    "houston_df = df[df['city'] == 'Houston']\n",
    "\n",
    "# Then, from the Palmer dataframe, further filter for BLDG_MODEL_CODE 1100 or 1110\n",
    "filtered_df = houston_df[houston_df['BLDG_MODEL_CODE'].isin([1100, 1110])]\n",
    "\n",
    "# For each row in the original df, sum the 'Living_Sqft' and 'Gar_Sqft' values\n",
    "# Calculate 'LVNG_GRG_SUM' in filtered_df\n",
    "filtered_df['LVNG_GRG_SUM'] = filtered_df['Living_Sqft'] + filtered_df['Gar_Sqft']\n",
    "\n",
    "# Ensure you're not trying to set values on a copy of a slice from a DataFrame\n",
    "# This is to avoid the SettingWithCopyWarning\n",
    "filtered_df = filtered_df.copy()\n",
    "\n",
    "# Aggregate this new column by 'BLDG_ID', summing up the 'LVNG_GRG_SUM' values\n",
    "aggregated_df = filtered_df.groupby('BLDG_ID')['LVNG_GRG_SUM'].sum().reset_index()\n",
    "\n",
    "# Save the aggregated data to a new CSV file. This will create the file if it doesn't exist.\n",
    "aggregated_df.to_csv('aggregated_building_areas_houston.csv', index=False)"
   ]
  },
  {
   "cell_type": "code",
   "execution_count": null,
   "id": "a8f93875",
   "metadata": {},
   "outputs": [],
   "source": []
  }
 ],
 "metadata": {
  "kernelspec": {
   "display_name": "Python 3 (ipykernel)",
   "language": "python",
   "name": "python3"
  },
  "language_info": {
   "codemirror_mode": {
    "name": "ipython",
    "version": 3
   },
   "file_extension": ".py",
   "mimetype": "text/x-python",
   "name": "python",
   "nbconvert_exporter": "python",
   "pygments_lexer": "ipython3",
   "version": "3.11.5"
  }
 },
 "nbformat": 4,
 "nbformat_minor": 5
}
