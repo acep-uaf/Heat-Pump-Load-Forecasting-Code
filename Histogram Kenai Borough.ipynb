{
 "cells": [
  {
   "cell_type": "code",
   "execution_count": 2,
   "id": "b0460ecb",
   "metadata": {},
   "outputs": [
    {
     "name": "stdout",
     "output_type": "stream",
     "text": [
      "Total number of buildings: 9730\n"
     ]
    }
   ],
   "source": [
    "import pandas as pd\n",
    "\n",
    "files = [\n",
    "    'Kenai_buildingoutput.csv',\n",
    "    'Nikiski_buildingoutput.csv',\n",
    "    'Soldotna_buildingoutput.csv'\n",
    "]\n",
    "\n",
    "# Read and preprocess each file\n",
    "dataframes = []\n",
    "for file in files:\n",
    "    # Load the data from the current file\n",
    "    df = pd.read_csv(file)\n",
    "    \n",
    "    # Filter out rows where 'footprint' is NaN or 0\n",
    "    df_filtered = df.dropna(subset=['Finished Area'])\n",
    "    df_filtered = df_filtered[df_filtered['Finished Area'] > 0]\n",
    "    \n",
    "    # Append the filtered DataFrame to the list\n",
    "    dataframes.append(df_filtered)\n",
    "\n",
    "# Concatenate all DataFrames into a single DataFrame\n",
    "df_combined = pd.concat(dataframes)\n",
    "\n",
    "# Sort the combined DataFrame by 'footprint' from smallest to largest\n",
    "df_sorted = df_combined.sort_values(by='Finished Area')\n",
    "\n",
    "# Calculate the total number of buildings\n",
    "total_buildings = len(df_sorted)\n",
    "\n",
    "print(f'Total number of buildings: {total_buildings}')"
   ]
  },
  {
   "cell_type": "code",
   "execution_count": 4,
   "id": "276a68f8",
   "metadata": {},
   "outputs": [
    {
     "data": {
      "image/png": "[encoded data removed]",
      "text/plain": [
       "<Figure size 1000x600 with 1 Axes>"
      ]
     },
     "metadata": {},
     "output_type": "display_data"
    }
   ],
   "source": [
    "\n",
    "import matplotlib.pyplot as plt\n",
    "\n",
    "# Plot histogram\n",
    "plt.figure(figsize=(10, 6))\n",
    "plt.hist(df_sorted['Finished Area'], bins=3, edgecolor='black')\n",
    "plt.title('Building Size Distribution')\n",
    "plt.xlabel('Building Size (square feet)')\n",
    "plt.ylabel('Frequency')\n",
    "plt.show()\n"
   ]
  },
  {
   "cell_type": "code",
   "execution_count": 5,
   "id": "6f12c7c4",
   "metadata": {},
   "outputs": [
    {
     "name": "stdout",
     "output_type": "stream",
     "text": [
      "Bin 1:\n",
      "  Number of buildings: 8956\n",
      "  Average building size: 1641.1883653416703\n",
      "Bin 2:\n",
      "  Number of buildings: 760\n",
      "  Average building size: 3793.7\n",
      "Bin 3:\n",
      "  Number of buildings: 14\n",
      "  Average building size: 7173.384615384615\n"
     ]
    }
   ],
   "source": [
    "import numpy as np\n",
    "\n",
    "# Calculate histogram and bin edges\n",
    "counts, bin_edges = np.histogram(df_sorted['Finished Area'], bins=3)\n",
    "\n",
    "# Initialize list to store averages\n",
    "bin_averages = []\n",
    "\n",
    "# Calculate average for each bin\n",
    "for i in range(len(bin_edges)-1):\n",
    "    # Filter data for this bin\n",
    "    bin_filter = (df_sorted['Finished Area'] >= bin_edges[i]) & (df_sorted['Finished Area'] < bin_edges[i+1])\n",
    "    bin_data = df_sorted[bin_filter]\n",
    "    \n",
    "    # Calculate and store average\n",
    "    avg = bin_data['Finished Area'].mean()\n",
    "    bin_averages.append(avg)\n",
    "\n",
    "    # Print number of buildings and average size for each bin\n",
    "    print(f'Bin {i+1}:')\n",
    "    print(f'  Number of buildings: {counts[i]}')\n",
    "    print(f'  Average building size: {avg}')"
   ]
  },
  {
   "cell_type": "code",
   "execution_count": 6,
   "id": "f7065786",
   "metadata": {},
   "outputs": [
    {
     "name": "stdout",
     "output_type": "stream",
     "text": [
      "Bin 1:\n",
      "  Number of buildings: 9730\n",
      "  Average building size: 1816.7282351731935\n"
     ]
    }
   ],
   "source": [
    "import numpy as np\n",
    "\n",
    "# Calculate histogram and bin edge using only 1 bin\n",
    "counts, bin_edges = np.histogram(df_sorted['Finished Area'], bins=1)\n",
    "\n",
    "# Initialize list to store averages\n",
    "bin_averages = []\n",
    "\n",
    "# Since there is only one bin, calculate average for that bin\n",
    "# Filter data for this bin\n",
    "bin_filter = (df_sorted['Finished Area'] >= bin_edges[0]) & (df_sorted['Finished Area'] < bin_edges[1])\n",
    "bin_data = df_sorted[bin_filter]\n",
    "\n",
    "# Calculate and store average\n",
    "avg = bin_data['Finished Area'].mean()\n",
    "bin_averages.append(avg)\n",
    "\n",
    "# Print number of buildings and average size for the single bin\n",
    "print(f'Bin 1:')\n",
    "print(f'  Number of buildings: {counts[0]}')\n",
    "print(f'  Average building size: {avg}')"
   ]
  },
  {
   "cell_type": "code",
   "execution_count": null,
   "id": "03faf0f0",
   "metadata": {},
   "outputs": [],
   "source": []
  }
 ],
 "metadata": {
  "kernelspec": {
   "display_name": "Python 3 (ipykernel)",
   "language": "python",
   "name": "python3"
  },
  "language_info": {
   "codemirror_mode": {
    "name": "ipython",
    "version": 3
   },
   "file_extension": ".py",
   "mimetype": "text/x-python",
   "name": "python",
   "nbconvert_exporter": "python",
   "pygments_lexer": "ipython3",
   "version": "3.11.5"
  }
 },
 "nbformat": 4,
 "nbformat_minor": 5
}
