{
 "cells": [
  {
   "cell_type": "code",
   "execution_count": 1,
   "id": "a21cd0a3",
   "metadata": {},
   "outputs": [],
   "source": [
    "import pandas as pd\n",
    "import numpy as np\n",
    "import sys\n",
    "from itertools import product"
   ]
  },
  {
   "cell_type": "code",
   "execution_count": 2,
   "id": "44dcc3cb",
   "metadata": {},
   "outputs": [
    {
     "name": "stdout",
     "output_type": "stream",
     "text": [
      "Requirement already satisfied: openpyxl in c:\\users\\wfcaldwell\\appdata\\local\\anaconda3\\envs\\pygee\\lib\\site-packages (3.1.2)\n",
      "Requirement already satisfied: et-xmlfile in c:\\users\\wfcaldwell\\appdata\\local\\anaconda3\\envs\\pygee\\lib\\site-packages (from openpyxl) (1.1.0)\n",
      "Requirement already satisfied: numpy_financial in c:\\users\\wfcaldwell\\appdata\\local\\anaconda3\\envs\\pygee\\lib\\site-packages (1.0.0)\n",
      "Requirement already satisfied: numpy>=1.15 in c:\\users\\wfcaldwell\\appdata\\local\\anaconda3\\envs\\pygee\\lib\\site-packages (from numpy_financial) (1.26.1)\n",
      "acquiring library data...\n"
     ]
    }
   ],
   "source": [
    "!pip install openpyxl\n",
    "!pip install numpy_financial\n",
    "import heatpump.library as lib\n",
    "from heatpump.home_heat_model import HomeHeatModel"
   ]
  },
  {
   "cell_type": "code",
   "execution_count": 3,
   "id": "47fa4fc2",
   "metadata": {},
   "outputs": [],
   "source": [
    "city_id = 293 # Example ID, replace with actual\n",
    "hp_model_id = -1  # Example ID, replace with actual\n",
    "exist_heat_fuel_id = 1  \n",
    "exist_heat_effic = 0.60  #\n",
    "exist_kwh_per_mmbtu = 10  \n",
    "co2_lbs_per_kwh = 0.453  \n",
    "low_temp_cutoff = -10  \n",
    "off_months = [6, 7, 8]  \n",
    "garage_stall_count = 1  \n",
    "garage_heated_by_hp = True  \n",
    "bldg_floor_area = 1750  \n",
    "indoor_heat_setpoint = 70  \n",
    "insul_level = 2  \n",
    "pct_exposed_to_hp = 0.60  \n",
    "doors_open_to_adjacent = True  # \n",
    "bedroom_temp_tolerance = 'med'  "
   ]
  },
  {
   "cell_type": "code",
   "execution_count": 4,
   "id": "8bd26e77",
   "metadata": {},
   "outputs": [
    {
     "ename": "ValueError",
     "evalue": "Length of values (3240) does not match length of index (8760)",
     "output_type": "error",
     "traceback": [
      "\u001b[1;31m---------------------------------------------------------------------------\u001b[0m",
      "\u001b[1;31mValueError\u001b[0m                                Traceback (most recent call last)",
      "Cell \u001b[1;32mIn[4], line 22\u001b[0m\n\u001b[0;32m      1\u001b[0m \u001b[38;5;28;01mimport\u001b[39;00m \u001b[38;5;21;01mpandas\u001b[39;00m \u001b[38;5;28;01mas\u001b[39;00m \u001b[38;5;21;01mpd\u001b[39;00m\n\u001b[0;32m      3\u001b[0m model \u001b[38;5;241m=\u001b[39m HomeHeatModel(\n\u001b[0;32m      4\u001b[0m     city_id\u001b[38;5;241m=\u001b[39mcity_id,\n\u001b[0;32m      5\u001b[0m     hp_model_id\u001b[38;5;241m=\u001b[39mhp_model_id,\n\u001b[1;32m   (...)\u001b[0m\n\u001b[0;32m     19\u001b[0m     bedroom_temp_tolerance\u001b[38;5;241m=\u001b[39mbedroom_temp_tolerance\n\u001b[0;32m     20\u001b[0m )\n\u001b[1;32m---> 22\u001b[0m model\u001b[38;5;241m.\u001b[39mcalculate()\n\u001b[0;32m     24\u001b[0m \u001b[38;5;66;03m# Export the results to CSV\u001b[39;00m\n\u001b[0;32m     25\u001b[0m model\u001b[38;5;241m.\u001b[39mexport_total_kwh_to_csv(\u001b[38;5;124m'\u001b[39m\u001b[38;5;124mtotal_kwh1.csv\u001b[39m\u001b[38;5;124m'\u001b[39m)\n",
      "File \u001b[1;32m~\\Downloads\\BoroughPotential\\HeatPumpCalculator\\heatpump\\home_heat_model.py:300\u001b[0m, in \u001b[0;36mHomeHeatModel.calculate\u001b[1;34m(self)\u001b[0m\n\u001b[0;32m    296\u001b[0m         \u001b[38;5;28;01mif\u001b[39;00m hp_ld \u001b[38;5;241m>\u001b[39m\u001b[38;5;241m=\u001b[39m max_hp_output \u001b[38;5;241m*\u001b[39m \u001b[38;5;241m0.999\u001b[39m:\n\u001b[0;32m    297\u001b[0m             \u001b[38;5;66;03m# running at within 0.1% of maximum heat pump output.\u001b[39;00m\n\u001b[0;32m    298\u001b[0m             s\u001b[38;5;241m.\u001b[39mmax_hp_reached \u001b[38;5;241m=\u001b[39m \u001b[38;5;28;01mTrue\u001b[39;00m\n\u001b[1;32m--> 300\u001b[0m dfh[\u001b[38;5;124m'\u001b[39m\u001b[38;5;124mhp_load_mmbtu\u001b[39m\u001b[38;5;124m'\u001b[39m] \u001b[38;5;241m=\u001b[39m np\u001b[38;5;241m.\u001b[39marray(hp_load) \u001b[38;5;241m/\u001b[39m \u001b[38;5;241m1e6\u001b[39m\n\u001b[0;32m    301\u001b[0m dfh[\u001b[38;5;124m'\u001b[39m\u001b[38;5;124msecondary_load_mmbtu\u001b[39m\u001b[38;5;124m'\u001b[39m] \u001b[38;5;241m=\u001b[39m np\u001b[38;5;241m.\u001b[39marray(secondary_load) \u001b[38;5;241m/\u001b[39m \u001b[38;5;241m1e6\u001b[39m\n\u001b[0;32m    303\u001b[0m \u001b[38;5;66;03m# reduce the secondary load to account for the heat produced by the auxiliary electricity\u001b[39;00m\n\u001b[0;32m    304\u001b[0m \u001b[38;5;66;03m# use.\u001b[39;00m\n\u001b[0;32m    305\u001b[0m \u001b[38;5;66;03m# convert the auxiliary heat factor for the secondary heating system into an\u001b[39;00m\n\u001b[0;32m    306\u001b[0m \u001b[38;5;66;03m# energy ratio of aux electricity energy to heat delivered.\u001b[39;00m\n",
      "File \u001b[1;32m~\\AppData\\Local\\anaconda3\\envs\\pygee\\Lib\\site-packages\\pandas\\core\\frame.py:4091\u001b[0m, in \u001b[0;36mDataFrame.__setitem__\u001b[1;34m(self, key, value)\u001b[0m\n\u001b[0;32m   4088\u001b[0m     \u001b[38;5;28mself\u001b[39m\u001b[38;5;241m.\u001b[39m_setitem_array([key], value)\n\u001b[0;32m   4089\u001b[0m \u001b[38;5;28;01melse\u001b[39;00m:\n\u001b[0;32m   4090\u001b[0m     \u001b[38;5;66;03m# set column\u001b[39;00m\n\u001b[1;32m-> 4091\u001b[0m     \u001b[38;5;28mself\u001b[39m\u001b[38;5;241m.\u001b[39m_set_item(key, value)\n",
      "File \u001b[1;32m~\\AppData\\Local\\anaconda3\\envs\\pygee\\Lib\\site-packages\\pandas\\core\\frame.py:4300\u001b[0m, in \u001b[0;36mDataFrame._set_item\u001b[1;34m(self, key, value)\u001b[0m\n\u001b[0;32m   4290\u001b[0m \u001b[38;5;28;01mdef\u001b[39;00m \u001b[38;5;21m_set_item\u001b[39m(\u001b[38;5;28mself\u001b[39m, key, value) \u001b[38;5;241m-\u001b[39m\u001b[38;5;241m>\u001b[39m \u001b[38;5;28;01mNone\u001b[39;00m:\n\u001b[0;32m   4291\u001b[0m \u001b[38;5;250m    \u001b[39m\u001b[38;5;124;03m\"\"\"\u001b[39;00m\n\u001b[0;32m   4292\u001b[0m \u001b[38;5;124;03m    Add series to DataFrame in specified column.\u001b[39;00m\n\u001b[0;32m   4293\u001b[0m \n\u001b[1;32m   (...)\u001b[0m\n\u001b[0;32m   4298\u001b[0m \u001b[38;5;124;03m    ensure homogeneity.\u001b[39;00m\n\u001b[0;32m   4299\u001b[0m \u001b[38;5;124;03m    \"\"\"\u001b[39;00m\n\u001b[1;32m-> 4300\u001b[0m     value, refs \u001b[38;5;241m=\u001b[39m \u001b[38;5;28mself\u001b[39m\u001b[38;5;241m.\u001b[39m_sanitize_column(value)\n\u001b[0;32m   4302\u001b[0m     \u001b[38;5;28;01mif\u001b[39;00m (\n\u001b[0;32m   4303\u001b[0m         key \u001b[38;5;129;01min\u001b[39;00m \u001b[38;5;28mself\u001b[39m\u001b[38;5;241m.\u001b[39mcolumns\n\u001b[0;32m   4304\u001b[0m         \u001b[38;5;129;01mand\u001b[39;00m value\u001b[38;5;241m.\u001b[39mndim \u001b[38;5;241m==\u001b[39m \u001b[38;5;241m1\u001b[39m\n\u001b[0;32m   4305\u001b[0m         \u001b[38;5;129;01mand\u001b[39;00m \u001b[38;5;129;01mnot\u001b[39;00m \u001b[38;5;28misinstance\u001b[39m(value\u001b[38;5;241m.\u001b[39mdtype, ExtensionDtype)\n\u001b[0;32m   4306\u001b[0m     ):\n\u001b[0;32m   4307\u001b[0m         \u001b[38;5;66;03m# broadcast across multiple columns if necessary\u001b[39;00m\n\u001b[0;32m   4308\u001b[0m         \u001b[38;5;28;01mif\u001b[39;00m \u001b[38;5;129;01mnot\u001b[39;00m \u001b[38;5;28mself\u001b[39m\u001b[38;5;241m.\u001b[39mcolumns\u001b[38;5;241m.\u001b[39mis_unique \u001b[38;5;129;01mor\u001b[39;00m \u001b[38;5;28misinstance\u001b[39m(\u001b[38;5;28mself\u001b[39m\u001b[38;5;241m.\u001b[39mcolumns, MultiIndex):\n",
      "File \u001b[1;32m~\\AppData\\Local\\anaconda3\\envs\\pygee\\Lib\\site-packages\\pandas\\core\\frame.py:5039\u001b[0m, in \u001b[0;36mDataFrame._sanitize_column\u001b[1;34m(self, value)\u001b[0m\n\u001b[0;32m   5036\u001b[0m     \u001b[38;5;28;01mreturn\u001b[39;00m _reindex_for_setitem(value, \u001b[38;5;28mself\u001b[39m\u001b[38;5;241m.\u001b[39mindex)\n\u001b[0;32m   5038\u001b[0m \u001b[38;5;28;01mif\u001b[39;00m is_list_like(value):\n\u001b[1;32m-> 5039\u001b[0m     com\u001b[38;5;241m.\u001b[39mrequire_length_match(value, \u001b[38;5;28mself\u001b[39m\u001b[38;5;241m.\u001b[39mindex)\n\u001b[0;32m   5040\u001b[0m \u001b[38;5;28;01mreturn\u001b[39;00m sanitize_array(value, \u001b[38;5;28mself\u001b[39m\u001b[38;5;241m.\u001b[39mindex, copy\u001b[38;5;241m=\u001b[39m\u001b[38;5;28;01mTrue\u001b[39;00m, allow_2d\u001b[38;5;241m=\u001b[39m\u001b[38;5;28;01mTrue\u001b[39;00m), \u001b[38;5;28;01mNone\u001b[39;00m\n",
      "File \u001b[1;32m~\\AppData\\Local\\anaconda3\\envs\\pygee\\Lib\\site-packages\\pandas\\core\\common.py:561\u001b[0m, in \u001b[0;36mrequire_length_match\u001b[1;34m(data, index)\u001b[0m\n\u001b[0;32m    557\u001b[0m \u001b[38;5;250m\u001b[39m\u001b[38;5;124;03m\"\"\"\u001b[39;00m\n\u001b[0;32m    558\u001b[0m \u001b[38;5;124;03mCheck the length of data matches the length of the index.\u001b[39;00m\n\u001b[0;32m    559\u001b[0m \u001b[38;5;124;03m\"\"\"\u001b[39;00m\n\u001b[0;32m    560\u001b[0m \u001b[38;5;28;01mif\u001b[39;00m \u001b[38;5;28mlen\u001b[39m(data) \u001b[38;5;241m!=\u001b[39m \u001b[38;5;28mlen\u001b[39m(index):\n\u001b[1;32m--> 561\u001b[0m     \u001b[38;5;28;01mraise\u001b[39;00m \u001b[38;5;167;01mValueError\u001b[39;00m(\n\u001b[0;32m    562\u001b[0m         \u001b[38;5;124m\"\u001b[39m\u001b[38;5;124mLength of values \u001b[39m\u001b[38;5;124m\"\u001b[39m\n\u001b[0;32m    563\u001b[0m         \u001b[38;5;124mf\u001b[39m\u001b[38;5;124m\"\u001b[39m\u001b[38;5;124m(\u001b[39m\u001b[38;5;132;01m{\u001b[39;00m\u001b[38;5;28mlen\u001b[39m(data)\u001b[38;5;132;01m}\u001b[39;00m\u001b[38;5;124m) \u001b[39m\u001b[38;5;124m\"\u001b[39m\n\u001b[0;32m    564\u001b[0m         \u001b[38;5;124m\"\u001b[39m\u001b[38;5;124mdoes not match length of index \u001b[39m\u001b[38;5;124m\"\u001b[39m\n\u001b[0;32m    565\u001b[0m         \u001b[38;5;124mf\u001b[39m\u001b[38;5;124m\"\u001b[39m\u001b[38;5;124m(\u001b[39m\u001b[38;5;132;01m{\u001b[39;00m\u001b[38;5;28mlen\u001b[39m(index)\u001b[38;5;132;01m}\u001b[39;00m\u001b[38;5;124m)\u001b[39m\u001b[38;5;124m\"\u001b[39m\n\u001b[0;32m    566\u001b[0m     )\n",
      "\u001b[1;31mValueError\u001b[0m: Length of values (3240) does not match length of index (8760)"
     ]
    }
   ],
   "source": [
    "import pandas as pd\n",
    "\n",
    "model = HomeHeatModel(\n",
    "    city_id=city_id,\n",
    "    hp_model_id=hp_model_id,\n",
    "    exist_heat_fuel_id=exist_heat_fuel_id,\n",
    "    exist_heat_effic=exist_heat_effic,\n",
    "    exist_kwh_per_mmbtu=exist_kwh_per_mmbtu,\n",
    "    co2_lbs_per_kwh=co2_lbs_per_kwh,\n",
    "    low_temp_cutoff=low_temp_cutoff,\n",
    "    off_months=off_months,\n",
    "    garage_stall_count=garage_stall_count,\n",
    "    garage_heated_by_hp=garage_heated_by_hp,\n",
    "    bldg_floor_area=bldg_floor_area,\n",
    "    indoor_heat_setpoint=indoor_heat_setpoint,\n",
    "    insul_level=insul_level,\n",
    "    pct_exposed_to_hp=pct_exposed_to_hp,\n",
    "    doors_open_to_adjacent=doors_open_to_adjacent,\n",
    "    bedroom_temp_tolerance=bedroom_temp_tolerance\n",
    ")\n",
    "\n",
    "model.calculate()\n",
    "\n",
    "# Export the results to CSV\n",
    "model.export_total_kwh_to_csv('total_kwh1.csv')\n",
    "\n",
    "# Add temp next to kilowatt-hour to debug\n",
    "# Add output sheet to excel"
   ]
  },
  {
   "cell_type": "code",
   "execution_count": null,
   "id": "b4754738",
   "metadata": {},
   "outputs": [],
   "source": []
  }
 ],
 "metadata": {
  "kernelspec": {
   "display_name": "Python 3 (ipykernel)",
   "language": "python",
   "name": "python3"
  },
  "language_info": {
   "codemirror_mode": {
    "name": "ipython",
    "version": 3
   },
   "file_extension": ".py",
   "mimetype": "text/x-python",
   "name": "python",
   "nbconvert_exporter": "python",
   "pygments_lexer": "ipython3",
   "version": "3.11.5"
  }
 },
 "nbformat": 4,
 "nbformat_minor": 5
}
