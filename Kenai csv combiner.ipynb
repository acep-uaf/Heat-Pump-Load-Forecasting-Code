{
 "cells": [
  {
   "cell_type": "code",
   "execution_count": 3,
   "id": "5f6daed2",
   "metadata": {},
   "outputs": [
    {
     "name": "stderr",
     "output_type": "stream",
     "text": [
      "C:\\Users\\wfcaldwell\\AppData\\Local\\Temp\\ipykernel_40096\\1823236557.py:10: DtypeWarning: Columns (0,1,5,6,7,8,13,14,15,16,17,18,19,20,21) have mixed types. Specify dtype option on import or set low_memory=False.\n",
      "  kenai_buildings_df = pd.read_csv('kpb_buildings.csv')\n"
     ]
    }
   ],
   "source": [
    "import pandas as pd\n",
    "\n",
    "# Load the 'text.csv' file\n",
    "text_df = pd.read_csv('BLDGS_2023.csv')\n",
    "\n",
    "# Find the largest 'Area' value for each building ID in 'text.csv'\n",
    "largest_area_per_id = text_df.groupby('Parcel #')['Finished Area'].max().reset_index()\n",
    "\n",
    "# Load the 'kenai_buildings.csv' file\n",
    "kenai_buildings_df = pd.read_csv('kpb_buildings.csv')\n",
    "\n",
    "# Merge the largest 'Area' data with the 'kenai_buildings.csv' data based on the building ID\n",
    "updated_kenai_buildings_df = pd.merge(kenai_buildings_df, largest_area_per_id, on='Parcel #', how='left')\n",
    "\n",
    "# Rename the 'Area' column to specify it contains the largest values (optional)\n",
    "updated_kenai_buildings_df.rename(columns={'Area': 'Largest_Area'}, inplace=True)\n",
    "\n",
    "# Export the updated dataframe to a new CSV file or overwrite the 'kenai_buildings.csv'\n",
    "updated_kenai_buildings_df.to_csv('updated_kenai_buildings.csv', index=False)"
   ]
  },
  {
   "cell_type": "code",
   "execution_count": null,
   "id": "646595c7",
   "metadata": {},
   "outputs": [],
   "source": []
  }
 ],
 "metadata": {
  "kernelspec": {
   "display_name": "Python 3 (ipykernel)",
   "language": "python",
   "name": "python3"
  },
  "language_info": {
   "codemirror_mode": {
    "name": "ipython",
    "version": 3
   },
   "file_extension": ".py",
   "mimetype": "text/x-python",
   "name": "python",
   "nbconvert_exporter": "python",
   "pygments_lexer": "ipython3",
   "version": "3.11.5"
  }
 },
 "nbformat": 4,
 "nbformat_minor": 5
}
