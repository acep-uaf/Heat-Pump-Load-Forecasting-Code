{
 "cells": [
  {
   "cell_type": "code",
   "execution_count": 3,
   "id": "55464dca",
   "metadata": {},
   "outputs": [],
   "source": [
    "import pandas as pd\n",
    "\n",
    "df = pd.read_csv('denali_buildings_denali_park_cutout.csv')\n",
    "\n",
    "filtered_df = df[df['Resident'] == 'residence']\n",
    "\n",
    "aggregated_df = filtered_df.groupby('parcel_id')['area'].sum().reset_index()\n",
    "\n",
    "aggregated_df.to_csv('building_output_denali.csv', index=False)"
   ]
  },
  {
   "cell_type": "code",
   "execution_count": null,
   "id": "0f31c8e9",
   "metadata": {},
   "outputs": [],
   "source": []
  }
 ],
 "metadata": {
  "kernelspec": {
   "display_name": "Python 3 (ipykernel)",
   "language": "python",
   "name": "python3"
  },
  "language_info": {
   "codemirror_mode": {
    "name": "ipython",
    "version": 3
   },
   "file_extension": ".py",
   "mimetype": "text/x-python",
   "name": "python",
   "nbconvert_exporter": "python",
   "pygments_lexer": "ipython3",
   "version": "3.11.5"
  }
 },
 "nbformat": 4,
 "nbformat_minor": 5
}
